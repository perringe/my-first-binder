{
 "cells": [
  {
   "cell_type": "markdown",
   "id": "9006364f-6968-4753-b87a-8c2fcdc78745",
   "metadata": {},
   "source": [
    "Types d'algorithmes pour L3 2022"
   ]
  },
  {
   "cell_type": "code",
   "execution_count": null,
   "id": "64518808-11d2-46f1-9c50-6b0188ac25cf",
   "metadata": {},
   "outputs": [],
   "source": []
  }
 ],
 "metadata": {
  "kernelspec": {
   "display_name": "Python 3 (ipykernel)",
   "language": "python",
   "name": "python3"
  },
  "language_info": {
   "codemirror_mode": {
    "name": "ipython",
    "version": 3
   },
   "file_extension": ".py",
   "mimetype": "text/x-python",
   "name": "python",
   "nbconvert_exporter": "python",
   "pygments_lexer": "ipython3",
   "version": "3.7.12"
  }
 },
 "nbformat": 4,
 "nbformat_minor": 5
}
